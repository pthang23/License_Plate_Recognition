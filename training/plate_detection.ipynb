{
  "cells": [
    {
      "cell_type": "code",
      "execution_count": 1,
      "metadata": {
        "colab": {
          "base_uri": "https://localhost:8080/"
        },
        "id": "tdMkHazKko2o",
        "outputId": "0cc0b5b4-97cc-4886-9583-a3702b8a5321"
      },
      "outputs": [
        {
          "output_type": "stream",
          "name": "stdout",
          "text": [
            "Cloning into 'yolov5'...\n",
            "remote: Enumerating objects: 12825, done.\u001b[K\n",
            "remote: Counting objects: 100% (106/106), done.\u001b[K\n",
            "remote: Compressing objects: 100% (60/60), done.\u001b[K\n",
            "remote: Total 12825 (delta 61), reused 83 (delta 46), pack-reused 12719\u001b[K\n",
            "Receiving objects: 100% (12825/12825), 12.42 MiB | 32.21 MiB/s, done.\n",
            "Resolving deltas: 100% (8816/8816), done.\n"
          ]
        }
      ],
      "source": [
        "!git clone https://github.com/ultralytics/yolov5"
      ]
    },
    {
      "cell_type": "code",
      "execution_count": 2,
      "metadata": {
        "id": "oKomhJ5KtnMl",
        "colab": {
          "base_uri": "https://localhost:8080/"
        },
        "outputId": "90b54b70-5a16-4ddb-efcd-be0ab6461819"
      },
      "outputs": [
        {
          "output_type": "stream",
          "name": "stdout",
          "text": [
            "\u001b[?25l\r\u001b[K     |▌                               | 10 kB 29.2 MB/s eta 0:00:01\r\u001b[K     |█                               | 20 kB 35.2 MB/s eta 0:00:01\r\u001b[K     |█▋                              | 30 kB 41.4 MB/s eta 0:00:01\r\u001b[K     |██▏                             | 40 kB 32.7 MB/s eta 0:00:01\r\u001b[K     |██▊                             | 51 kB 36.1 MB/s eta 0:00:01\r\u001b[K     |███▎                            | 61 kB 40.4 MB/s eta 0:00:01\r\u001b[K     |███▉                            | 71 kB 28.4 MB/s eta 0:00:01\r\u001b[K     |████▍                           | 81 kB 29.9 MB/s eta 0:00:01\r\u001b[K     |█████                           | 92 kB 32.2 MB/s eta 0:00:01\r\u001b[K     |█████▌                          | 102 kB 33.6 MB/s eta 0:00:01\r\u001b[K     |██████                          | 112 kB 33.6 MB/s eta 0:00:01\r\u001b[K     |██████▋                         | 122 kB 33.6 MB/s eta 0:00:01\r\u001b[K     |███████▏                        | 133 kB 33.6 MB/s eta 0:00:01\r\u001b[K     |███████▊                        | 143 kB 33.6 MB/s eta 0:00:01\r\u001b[K     |████████▎                       | 153 kB 33.6 MB/s eta 0:00:01\r\u001b[K     |████████▉                       | 163 kB 33.6 MB/s eta 0:00:01\r\u001b[K     |█████████▍                      | 174 kB 33.6 MB/s eta 0:00:01\r\u001b[K     |██████████                      | 184 kB 33.6 MB/s eta 0:00:01\r\u001b[K     |██████████▍                     | 194 kB 33.6 MB/s eta 0:00:01\r\u001b[K     |███████████                     | 204 kB 33.6 MB/s eta 0:00:01\r\u001b[K     |███████████▌                    | 215 kB 33.6 MB/s eta 0:00:01\r\u001b[K     |████████████                    | 225 kB 33.6 MB/s eta 0:00:01\r\u001b[K     |████████████▋                   | 235 kB 33.6 MB/s eta 0:00:01\r\u001b[K     |█████████████▏                  | 245 kB 33.6 MB/s eta 0:00:01\r\u001b[K     |█████████████▊                  | 256 kB 33.6 MB/s eta 0:00:01\r\u001b[K     |██████████████▎                 | 266 kB 33.6 MB/s eta 0:00:01\r\u001b[K     |██████████████▉                 | 276 kB 33.6 MB/s eta 0:00:01\r\u001b[K     |███████████████▍                | 286 kB 33.6 MB/s eta 0:00:01\r\u001b[K     |████████████████                | 296 kB 33.6 MB/s eta 0:00:01\r\u001b[K     |████████████████▌               | 307 kB 33.6 MB/s eta 0:00:01\r\u001b[K     |█████████████████               | 317 kB 33.6 MB/s eta 0:00:01\r\u001b[K     |█████████████████▋              | 327 kB 33.6 MB/s eta 0:00:01\r\u001b[K     |██████████████████▏             | 337 kB 33.6 MB/s eta 0:00:01\r\u001b[K     |██████████████████▊             | 348 kB 33.6 MB/s eta 0:00:01\r\u001b[K     |███████████████████▎            | 358 kB 33.6 MB/s eta 0:00:01\r\u001b[K     |███████████████████▉            | 368 kB 33.6 MB/s eta 0:00:01\r\u001b[K     |████████████████████▍           | 378 kB 33.6 MB/s eta 0:00:01\r\u001b[K     |████████████████████▉           | 389 kB 33.6 MB/s eta 0:00:01\r\u001b[K     |█████████████████████▍          | 399 kB 33.6 MB/s eta 0:00:01\r\u001b[K     |██████████████████████          | 409 kB 33.6 MB/s eta 0:00:01\r\u001b[K     |██████████████████████▌         | 419 kB 33.6 MB/s eta 0:00:01\r\u001b[K     |███████████████████████         | 430 kB 33.6 MB/s eta 0:00:01\r\u001b[K     |███████████████████████▋        | 440 kB 33.6 MB/s eta 0:00:01\r\u001b[K     |████████████████████████▏       | 450 kB 33.6 MB/s eta 0:00:01\r\u001b[K     |████████████████████████▊       | 460 kB 33.6 MB/s eta 0:00:01\r\u001b[K     |█████████████████████████▎      | 471 kB 33.6 MB/s eta 0:00:01\r\u001b[K     |█████████████████████████▉      | 481 kB 33.6 MB/s eta 0:00:01\r\u001b[K     |██████████████████████████▍     | 491 kB 33.6 MB/s eta 0:00:01\r\u001b[K     |███████████████████████████     | 501 kB 33.6 MB/s eta 0:00:01\r\u001b[K     |███████████████████████████▌    | 512 kB 33.6 MB/s eta 0:00:01\r\u001b[K     |████████████████████████████    | 522 kB 33.6 MB/s eta 0:00:01\r\u001b[K     |████████████████████████████▋   | 532 kB 33.6 MB/s eta 0:00:01\r\u001b[K     |█████████████████████████████▏  | 542 kB 33.6 MB/s eta 0:00:01\r\u001b[K     |█████████████████████████████▊  | 552 kB 33.6 MB/s eta 0:00:01\r\u001b[K     |██████████████████████████████▎ | 563 kB 33.6 MB/s eta 0:00:01\r\u001b[K     |██████████████████████████████▊ | 573 kB 33.6 MB/s eta 0:00:01\r\u001b[K     |███████████████████████████████▎| 583 kB 33.6 MB/s eta 0:00:01\r\u001b[K     |███████████████████████████████▉| 593 kB 33.6 MB/s eta 0:00:01\r\u001b[K     |████████████████████████████████| 596 kB 33.6 MB/s \n",
            "\u001b[?25h"
          ]
        }
      ],
      "source": [
        "!cd yolov5\n",
        "!pip install -qr /content/yolov5/requirements.txt"
      ]
    },
    {
      "cell_type": "code",
      "execution_count": 3,
      "metadata": {
        "colab": {
          "base_uri": "https://localhost:8080/"
        },
        "id": "z7BtnzsFtorL",
        "outputId": "65714889-722e-4f54-fab8-16273c6a5eed"
      },
      "outputs": [
        {
          "output_type": "stream",
          "name": "stdout",
          "text": [
            "Mounted at /gdrive\n"
          ]
        }
      ],
      "source": [
        "from google.colab import drive\n",
        "drive.mount('/gdrive')"
      ]
    },
    {
      "cell_type": "code",
      "execution_count": null,
      "metadata": {
        "colab": {
          "base_uri": "https://localhost:8080/"
        },
        "id": "hj6Jv838t292",
        "outputId": "d298cb3e-8a3d-4da4-a772-a01fa5d757c4"
      },
      "outputs": [
        {
          "output_type": "stream",
          "name": "stdout",
          "text": [
            "\u001b[34m\u001b[1mtrain: \u001b[0mweights=yolov5s.pt, cfg=, data=/gdrive/MyDrive/AIP391/license.yaml, hyp=yolov5/data/hyps/hyp.scratch-low.yaml, epochs=40, batch_size=32, imgsz=640, rect=False, resume=False, nosave=False, noval=False, noautoanchor=False, noplots=False, evolve=None, bucket=, cache=None, image_weights=False, device=, multi_scale=False, single_cls=False, optimizer=SGD, sync_bn=False, workers=8, project=yolov5/runs/train, name=exp, exist_ok=False, quad=False, cos_lr=False, label_smoothing=0.0, patience=100, freeze=[0], save_period=-1, seed=0, local_rank=-1, entity=None, upload_dataset=False, bbox_interval=-1, artifact_alias=latest\n",
            "\u001b[34m\u001b[1mgithub: \u001b[0mup to date with https://github.com/ultralytics/yolov5 ✅\n",
            "YOLOv5 🚀 v6.1-307-g92e47b8 Python-3.7.13 torch-1.12.0+cu113 CUDA:0 (Tesla T4, 15110MiB)\n",
            "\n",
            "\u001b[34m\u001b[1mhyperparameters: \u001b[0mlr0=0.01, lrf=0.01, momentum=0.937, weight_decay=0.0005, warmup_epochs=3.0, warmup_momentum=0.8, warmup_bias_lr=0.1, box=0.05, cls=0.5, cls_pw=1.0, obj=1.0, obj_pw=1.0, iou_t=0.2, anchor_t=4.0, fl_gamma=0.0, hsv_h=0.015, hsv_s=0.7, hsv_v=0.4, degrees=0.0, translate=0.1, scale=0.5, shear=0.0, perspective=0.0, flipud=0.0, fliplr=0.5, mosaic=1.0, mixup=0.0, copy_paste=0.0\n",
            "\u001b[34m\u001b[1mWeights & Biases: \u001b[0mrun 'pip install wandb' to automatically track and visualize YOLOv5 🚀 runs (RECOMMENDED)\n",
            "\u001b[34m\u001b[1mTensorBoard: \u001b[0mStart with 'tensorboard --logdir yolov5/runs/train', view at http://localhost:6006/\n",
            "Downloading https://ultralytics.com/assets/Arial.ttf to /root/.config/Ultralytics/Arial.ttf...\n",
            "100% 755k/755k [00:00<00:00, 10.7MB/s]\n",
            "Downloading https://github.com/ultralytics/yolov5/releases/download/v6.1/yolov5s.pt to yolov5s.pt...\n",
            "100% 14.1M/14.1M [00:00<00:00, 288MB/s]\n",
            "\n",
            "Overriding model.yaml nc=80 with nc=1\n",
            "\n",
            "                 from  n    params  module                                  arguments                     \n",
            "  0                -1  1      3520  models.common.Conv                      [3, 32, 6, 2, 2]              \n",
            "  1                -1  1     18560  models.common.Conv                      [32, 64, 3, 2]                \n",
            "  2                -1  1     18816  models.common.C3                        [64, 64, 1]                   \n",
            "  3                -1  1     73984  models.common.Conv                      [64, 128, 3, 2]               \n",
            "  4                -1  2    115712  models.common.C3                        [128, 128, 2]                 \n",
            "  5                -1  1    295424  models.common.Conv                      [128, 256, 3, 2]              \n",
            "  6                -1  3    625152  models.common.C3                        [256, 256, 3]                 \n",
            "  7                -1  1   1180672  models.common.Conv                      [256, 512, 3, 2]              \n",
            "  8                -1  1   1182720  models.common.C3                        [512, 512, 1]                 \n",
            "  9                -1  1    656896  models.common.SPPF                      [512, 512, 5]                 \n",
            " 10                -1  1    131584  models.common.Conv                      [512, 256, 1, 1]              \n",
            " 11                -1  1         0  torch.nn.modules.upsampling.Upsample    [None, 2, 'nearest']          \n",
            " 12           [-1, 6]  1         0  models.common.Concat                    [1]                           \n",
            " 13                -1  1    361984  models.common.C3                        [512, 256, 1, False]          \n",
            " 14                -1  1     33024  models.common.Conv                      [256, 128, 1, 1]              \n",
            " 15                -1  1         0  torch.nn.modules.upsampling.Upsample    [None, 2, 'nearest']          \n",
            " 16           [-1, 4]  1         0  models.common.Concat                    [1]                           \n",
            " 17                -1  1     90880  models.common.C3                        [256, 128, 1, False]          \n",
            " 18                -1  1    147712  models.common.Conv                      [128, 128, 3, 2]              \n",
            " 19          [-1, 14]  1         0  models.common.Concat                    [1]                           \n",
            " 20                -1  1    296448  models.common.C3                        [256, 256, 1, False]          \n",
            " 21                -1  1    590336  models.common.Conv                      [256, 256, 3, 2]              \n",
            " 22          [-1, 10]  1         0  models.common.Concat                    [1]                           \n",
            " 23                -1  1   1182720  models.common.C3                        [512, 512, 1, False]          \n",
            " 24      [17, 20, 23]  1     16182  models.yolo.Detect                      [1, [[10, 13, 16, 30, 33, 23], [30, 61, 62, 45, 59, 119], [116, 90, 156, 198, 373, 326]], [128, 256, 512]]\n",
            "Model summary: 270 layers, 7022326 parameters, 7022326 gradients, 15.9 GFLOPs\n",
            "\n",
            "Transferred 343/349 items from yolov5s.pt\n",
            "\u001b[34m\u001b[1mAMP: \u001b[0mchecks passed ✅\n",
            "Scaled weight_decay = 0.0005\n",
            "\u001b[34m\u001b[1moptimizer:\u001b[0m SGD with parameter groups 57 weight (no decay), 60 weight, 60 bias\n",
            "\u001b[34m\u001b[1malbumentations: \u001b[0mversion 1.0.3 required by YOLOv5, but version 0.1.12 is currently installed\n",
            "\u001b[34m\u001b[1mtrain: \u001b[0mScanning '/gdrive/MyDrive/AIP391/License_Data/labels/train.cache' images and labels... 6607 found, 0 missing, 0 empty, 0 corrupt: 100% 6607/6607 [00:00<?, ?it/s]\n",
            "\u001b[34m\u001b[1mval: \u001b[0mScanning '/gdrive/MyDrive/AIP391/License_Data/labels/val.cache' images and labels... 1652 found, 0 missing, 0 empty, 0 corrupt: 100% 1652/1652 [00:00<?, ?it/s]\n",
            "Plotting labels to yolov5/runs/train/exp/labels.jpg... \n",
            "\n",
            "\u001b[34m\u001b[1mAutoAnchor: \u001b[0m4.50 anchors/target, 1.000 Best Possible Recall (BPR). Current anchors are a good fit to dataset ✅\n",
            "Image sizes 640 train, 640 val\n",
            "Using 2 dataloader workers\n",
            "Logging results to \u001b[1myolov5/runs/train/exp\u001b[0m\n",
            "Starting training for 40 epochs...\n",
            "\n",
            "     Epoch   gpu_mem       box       obj       cls    labels  img_size\n",
            "      0/39     7.32G   0.06651   0.01841         0        28       640: 100% 207/207 [04:02<00:00,  1.17s/it]\n",
            "               Class     Images     Labels          P          R     mAP@.5 mAP@.5:.95: 100% 26/26 [04:18<00:00,  9.95s/it]\n",
            "                 all       1652       1667      0.779      0.897      0.861      0.372\n",
            "\n",
            "     Epoch   gpu_mem       box       obj       cls    labels  img_size\n",
            "      1/39     9.79G   0.04253   0.01012         0        22       640: 100% 207/207 [02:49<00:00,  1.22it/s]\n",
            "               Class     Images     Labels          P          R     mAP@.5 mAP@.5:.95: 100% 26/26 [00:16<00:00,  1.61it/s]\n",
            "                 all       1652       1667      0.958      0.964      0.983      0.551\n",
            "\n",
            "     Epoch   gpu_mem       box       obj       cls    labels  img_size\n",
            "      2/39     9.79G   0.03591  0.008062         0        29       640: 100% 207/207 [02:49<00:00,  1.22it/s]\n",
            "               Class     Images     Labels          P          R     mAP@.5 mAP@.5:.95: 100% 26/26 [00:16<00:00,  1.57it/s]\n",
            "                 all       1652       1667      0.985      0.985       0.99      0.633\n",
            "\n",
            "     Epoch   gpu_mem       box       obj       cls    labels  img_size\n",
            "      3/39     9.79G   0.02981  0.007063         0        27       640: 100% 207/207 [02:53<00:00,  1.19it/s]\n",
            "               Class     Images     Labels          P          R     mAP@.5 mAP@.5:.95: 100% 26/26 [00:16<00:00,  1.62it/s]\n",
            "                 all       1652       1667      0.987       0.98      0.991      0.665\n",
            "\n",
            "     Epoch   gpu_mem       box       obj       cls    labels  img_size\n",
            "      4/39     9.79G   0.02703  0.006618         0        38       640: 100% 207/207 [02:49<00:00,  1.22it/s]\n",
            "               Class     Images     Labels          P          R     mAP@.5 mAP@.5:.95: 100% 26/26 [00:16<00:00,  1.62it/s]\n",
            "                 all       1652       1667       0.99       0.99      0.994      0.698\n",
            "\n",
            "     Epoch   gpu_mem       box       obj       cls    labels  img_size\n",
            "      5/39     9.79G   0.02582  0.006453         0        32       640: 100% 207/207 [02:49<00:00,  1.22it/s]\n",
            "               Class     Images     Labels          P          R     mAP@.5 mAP@.5:.95: 100% 26/26 [00:16<00:00,  1.60it/s]\n",
            "                 all       1652       1667      0.993      0.991      0.995      0.694\n",
            "\n",
            "     Epoch   gpu_mem       box       obj       cls    labels  img_size\n",
            "      6/39     9.79G   0.02515  0.006288         0        30       640: 100% 207/207 [02:50<00:00,  1.21it/s]\n",
            "               Class     Images     Labels          P          R     mAP@.5 mAP@.5:.95: 100% 26/26 [00:16<00:00,  1.58it/s]\n",
            "                 all       1652       1667      0.994      0.995      0.995        0.7\n",
            "\n",
            "     Epoch   gpu_mem       box       obj       cls    labels  img_size\n",
            "      7/39     9.79G    0.0244  0.006207         0        27       640: 100% 207/207 [02:50<00:00,  1.21it/s]\n",
            "               Class     Images     Labels          P          R     mAP@.5 mAP@.5:.95: 100% 26/26 [00:16<00:00,  1.58it/s]\n",
            "                 all       1652       1667      0.996       0.99      0.995      0.713\n",
            "\n",
            "     Epoch   gpu_mem       box       obj       cls    labels  img_size\n",
            "      8/39     9.79G   0.02353  0.006074         0        28       640: 100% 207/207 [02:51<00:00,  1.21it/s]\n",
            "               Class     Images     Labels          P          R     mAP@.5 mAP@.5:.95: 100% 26/26 [00:16<00:00,  1.58it/s]\n",
            "                 all       1652       1667      0.994      0.992      0.995      0.717\n",
            "\n",
            "     Epoch   gpu_mem       box       obj       cls    labels  img_size\n",
            "      9/39     9.79G   0.02362   0.00607         0        33       640: 100% 207/207 [02:50<00:00,  1.22it/s]\n",
            "               Class     Images     Labels          P          R     mAP@.5 mAP@.5:.95: 100% 26/26 [00:16<00:00,  1.59it/s]\n",
            "                 all       1652       1667      0.995      0.994      0.994      0.712\n",
            "\n",
            "     Epoch   gpu_mem       box       obj       cls    labels  img_size\n",
            "     10/39     9.79G   0.02304  0.006063         0        27       640: 100% 207/207 [02:51<00:00,  1.21it/s]\n",
            "               Class     Images     Labels          P          R     mAP@.5 mAP@.5:.95: 100% 26/26 [00:16<00:00,  1.55it/s]\n",
            "                 all       1652       1667       0.99      0.995      0.995      0.713\n",
            "\n",
            "     Epoch   gpu_mem       box       obj       cls    labels  img_size\n",
            "     11/39     9.79G   0.02294  0.005989         0        29       640: 100% 207/207 [02:51<00:00,  1.21it/s]\n",
            "               Class     Images     Labels          P          R     mAP@.5 mAP@.5:.95: 100% 26/26 [00:16<00:00,  1.58it/s]\n",
            "                 all       1652       1667      0.996      0.994      0.995      0.721\n",
            "\n",
            "     Epoch   gpu_mem       box       obj       cls    labels  img_size\n",
            "     12/39     9.79G   0.02248  0.005968         0        30       640: 100% 207/207 [02:52<00:00,  1.20it/s]\n",
            "               Class     Images     Labels          P          R     mAP@.5 mAP@.5:.95: 100% 26/26 [00:16<00:00,  1.61it/s]\n",
            "                 all       1652       1667      0.997      0.996      0.995       0.73\n",
            "\n",
            "     Epoch   gpu_mem       box       obj       cls    labels  img_size\n",
            "     13/39     9.79G   0.02227  0.005797         0        27       640: 100% 207/207 [02:50<00:00,  1.21it/s]\n",
            "               Class     Images     Labels          P          R     mAP@.5 mAP@.5:.95: 100% 26/26 [00:16<00:00,  1.60it/s]\n",
            "                 all       1652       1667      0.997      0.993      0.995      0.719\n",
            "\n",
            "     Epoch   gpu_mem       box       obj       cls    labels  img_size\n",
            "     14/39     9.79G   0.02216  0.005749         0        29       640: 100% 207/207 [02:51<00:00,  1.21it/s]\n",
            "               Class     Images     Labels          P          R     mAP@.5 mAP@.5:.95: 100% 26/26 [00:16<00:00,  1.61it/s]\n",
            "                 all       1652       1667      0.996      0.995      0.995      0.729\n",
            "\n",
            "     Epoch   gpu_mem       box       obj       cls    labels  img_size\n",
            "     15/39     9.79G   0.02184  0.005748         0        29       640: 100% 207/207 [02:53<00:00,  1.19it/s]\n",
            "               Class     Images     Labels          P          R     mAP@.5 mAP@.5:.95: 100% 26/26 [00:16<00:00,  1.62it/s]\n",
            "                 all       1652       1667      0.994      0.995      0.995      0.723\n",
            "\n",
            "     Epoch   gpu_mem       box       obj       cls    labels  img_size\n",
            "     16/39     9.79G   0.02186  0.005678         0        24       640: 100% 207/207 [02:51<00:00,  1.21it/s]\n",
            "               Class     Images     Labels          P          R     mAP@.5 mAP@.5:.95: 100% 26/26 [00:16<00:00,  1.58it/s]\n",
            "                 all       1652       1667      0.995      0.997      0.993      0.724\n",
            "\n",
            "     Epoch   gpu_mem       box       obj       cls    labels  img_size\n",
            "     17/39     9.79G   0.02149   0.00571         0        23       640: 100% 207/207 [02:50<00:00,  1.21it/s]\n",
            "               Class     Images     Labels          P          R     mAP@.5 mAP@.5:.95: 100% 26/26 [00:16<00:00,  1.56it/s]\n",
            "                 all       1652       1667      0.996      0.997      0.995      0.733\n",
            "\n",
            "     Epoch   gpu_mem       box       obj       cls    labels  img_size\n",
            "     18/39     9.79G    0.0214  0.005658         0        23       640: 100% 207/207 [02:49<00:00,  1.22it/s]\n",
            "               Class     Images     Labels          P          R     mAP@.5 mAP@.5:.95: 100% 26/26 [00:16<00:00,  1.56it/s]\n",
            "                 all       1652       1667      0.994      0.997      0.994      0.721\n",
            "\n",
            "     Epoch   gpu_mem       box       obj       cls    labels  img_size\n",
            "     19/39     9.79G   0.02141  0.005636         0        63       640:  46% 96/207 [01:18<01:33,  1.18it/s]"
          ]
        }
      ],
      "source": [
        "# TRAIN LICENSE DETECTION\n",
        "!python /content/yolov5/train.py --img 640 --batch 32 --epochs 40 --data /gdrive/MyDrive/AIP391/license.yaml --weights yolov5s.pt"
      ]
    },
    {
      "cell_type": "code",
      "source": [
        "# DOWNLOAD RESULT TO COMPUTER\n",
        "from google.colab import files\n",
        "files.download('/content/yolov5/runs/train/exp/weights/best.pt')\n",
        "files.download('/content/yolov5/runs/train/exp/results.png')"
      ],
      "metadata": {
        "colab": {
          "base_uri": "https://localhost:8080/",
          "height": 34
        },
        "id": "40rVaUYDkDno",
        "outputId": "8a4561d5-ced5-48c4-87c4-311d2227deb5"
      },
      "execution_count": null,
      "outputs": [
        {
          "output_type": "display_data",
          "data": {
            "text/plain": [
              "<IPython.core.display.Javascript object>"
            ],
            "application/javascript": [
              "\n",
              "    async function download(id, filename, size) {\n",
              "      if (!google.colab.kernel.accessAllowed) {\n",
              "        return;\n",
              "      }\n",
              "      const div = document.createElement('div');\n",
              "      const label = document.createElement('label');\n",
              "      label.textContent = `Downloading \"${filename}\": `;\n",
              "      div.appendChild(label);\n",
              "      const progress = document.createElement('progress');\n",
              "      progress.max = size;\n",
              "      div.appendChild(progress);\n",
              "      document.body.appendChild(div);\n",
              "\n",
              "      const buffers = [];\n",
              "      let downloaded = 0;\n",
              "\n",
              "      const channel = await google.colab.kernel.comms.open(id);\n",
              "      // Send a message to notify the kernel that we're ready.\n",
              "      channel.send({})\n",
              "\n",
              "      for await (const message of channel.messages) {\n",
              "        // Send a message to notify the kernel that we're ready.\n",
              "        channel.send({})\n",
              "        if (message.buffers) {\n",
              "          for (const buffer of message.buffers) {\n",
              "            buffers.push(buffer);\n",
              "            downloaded += buffer.byteLength;\n",
              "            progress.value = downloaded;\n",
              "          }\n",
              "        }\n",
              "      }\n",
              "      const blob = new Blob(buffers, {type: 'application/binary'});\n",
              "      const a = document.createElement('a');\n",
              "      a.href = window.URL.createObjectURL(blob);\n",
              "      a.download = filename;\n",
              "      div.appendChild(a);\n",
              "      a.click();\n",
              "      div.remove();\n",
              "    }\n",
              "  "
            ]
          },
          "metadata": {}
        },
        {
          "output_type": "display_data",
          "data": {
            "text/plain": [
              "<IPython.core.display.Javascript object>"
            ],
            "application/javascript": [
              "download(\"download_e94ec662-51ed-465e-9777-b9fcf870d452\", \"best.pt\", 14457397)"
            ]
          },
          "metadata": {}
        },
        {
          "output_type": "display_data",
          "data": {
            "text/plain": [
              "<IPython.core.display.Javascript object>"
            ],
            "application/javascript": [
              "\n",
              "    async function download(id, filename, size) {\n",
              "      if (!google.colab.kernel.accessAllowed) {\n",
              "        return;\n",
              "      }\n",
              "      const div = document.createElement('div');\n",
              "      const label = document.createElement('label');\n",
              "      label.textContent = `Downloading \"${filename}\": `;\n",
              "      div.appendChild(label);\n",
              "      const progress = document.createElement('progress');\n",
              "      progress.max = size;\n",
              "      div.appendChild(progress);\n",
              "      document.body.appendChild(div);\n",
              "\n",
              "      const buffers = [];\n",
              "      let downloaded = 0;\n",
              "\n",
              "      const channel = await google.colab.kernel.comms.open(id);\n",
              "      // Send a message to notify the kernel that we're ready.\n",
              "      channel.send({})\n",
              "\n",
              "      for await (const message of channel.messages) {\n",
              "        // Send a message to notify the kernel that we're ready.\n",
              "        channel.send({})\n",
              "        if (message.buffers) {\n",
              "          for (const buffer of message.buffers) {\n",
              "            buffers.push(buffer);\n",
              "            downloaded += buffer.byteLength;\n",
              "            progress.value = downloaded;\n",
              "          }\n",
              "        }\n",
              "      }\n",
              "      const blob = new Blob(buffers, {type: 'application/binary'});\n",
              "      const a = document.createElement('a');\n",
              "      a.href = window.URL.createObjectURL(blob);\n",
              "      a.download = filename;\n",
              "      div.appendChild(a);\n",
              "      a.click();\n",
              "      div.remove();\n",
              "    }\n",
              "  "
            ]
          },
          "metadata": {}
        },
        {
          "output_type": "display_data",
          "data": {
            "text/plain": [
              "<IPython.core.display.Javascript object>"
            ],
            "application/javascript": [
              "download(\"download_a28a9e53-6cb9-4f5f-bc5a-342cfd5bae01\", \"results.png\", 210750)"
            ]
          },
          "metadata": {}
        }
      ]
    }
  ],
  "metadata": {
    "colab": {
      "collapsed_sections": [],
      "name": "plate_detection.ipynb",
      "provenance": []
    },
    "gpuClass": "standard",
    "kernelspec": {
      "display_name": "Python 3",
      "name": "python3"
    },
    "language_info": {
      "name": "python"
    },
    "accelerator": "GPU"
  },
  "nbformat": 4,
  "nbformat_minor": 0
}